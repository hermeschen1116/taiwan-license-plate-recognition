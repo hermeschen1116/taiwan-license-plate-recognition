{
 "cells": [
  {
   "cell_type": "code",
   "id": "initial_id",
   "metadata": {
    "collapsed": true,
    "ExecuteTime": {
     "end_time": "2024-11-21T09:23:36.830007Z",
     "start_time": "2024-11-21T09:23:35.733436Z"
    }
   },
   "source": "import easyocr",
   "outputs": [],
   "execution_count": 1
  },
  {
   "metadata": {
    "ExecuteTime": {
     "end_time": "2024-11-21T09:23:38.917241Z",
     "start_time": "2024-11-21T09:23:36.837414Z"
    }
   },
   "cell_type": "code",
   "source": "reader = easyocr.Reader([\"ch_tra\", \"en\"])",
   "id": "ceecf163a9ef628",
   "outputs": [],
   "execution_count": 2
  },
  {
   "metadata": {
    "ExecuteTime": {
     "end_time": "2024-11-21T09:23:39.210869Z",
     "start_time": "2024-11-21T09:23:38.956996Z"
    }
   },
   "cell_type": "code",
   "source": "result = reader.readtext(\"Taiwan_Province_License_Plate_1994-2008.jpg\")",
   "id": "fe9416a44bb6f520",
   "outputs": [],
   "execution_count": 3
  },
  {
   "metadata": {
    "ExecuteTime": {
     "end_time": "2024-11-21T09:23:39.222356Z",
     "start_time": "2024-11-21T09:23:39.218288Z"
    }
   },
   "cell_type": "code",
   "source": "result",
   "id": "d47d4ad99963230c",
   "outputs": [
    {
     "data": {
      "text/plain": [
       "[([[395, 55], [892, 55], [892, 184], [395, 184]], '台 灣 省', 0.5881829155408589),\n",
       " ([[28, 96], [1238, 96], [1238, 558], [28, 558]], '5799[', 0.571649334960633)]"
      ]
     },
     "execution_count": 4,
     "metadata": {},
     "output_type": "execute_result"
    }
   ],
   "execution_count": 4
  },
  {
   "metadata": {
    "ExecuteTime": {
     "end_time": "2024-11-21T09:23:39.274978Z",
     "start_time": "2024-11-21T09:23:39.273170Z"
    }
   },
   "cell_type": "code",
   "source": "",
   "id": "b61164ad35e74933",
   "outputs": [],
   "execution_count": null
  }
 ],
 "metadata": {
  "kernelspec": {
   "display_name": "Python 3",
   "language": "python",
   "name": "python3"
  },
  "language_info": {
   "codemirror_mode": {
    "name": "ipython",
    "version": 2
   },
   "file_extension": ".py",
   "mimetype": "text/x-python",
   "name": "python",
   "nbconvert_exporter": "python",
   "pygments_lexer": "ipython2",
   "version": "2.7.6"
  }
 },
 "nbformat": 4,
 "nbformat_minor": 5
}
