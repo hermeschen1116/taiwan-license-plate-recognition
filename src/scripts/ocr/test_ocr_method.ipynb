{
 "cells": [
  {
   "metadata": {
    "ExecuteTime": {
     "end_time": "2024-11-21T09:58:27.904226Z",
     "start_time": "2024-11-21T09:58:27.902312Z"
    }
   },
   "cell_type": "code",
   "source": "from PIL import Image",
   "id": "c7c666a32cb1cfab",
   "outputs": [],
   "execution_count": 15
  },
  {
   "metadata": {
    "ExecuteTime": {
     "end_time": "2024-11-21T09:58:27.950648Z",
     "start_time": "2024-11-21T09:58:27.948604Z"
    }
   },
   "cell_type": "code",
   "source": "image = Image.open(\"test.jpg\")",
   "id": "2b3b8fc55fca40a7",
   "outputs": [],
   "execution_count": 16
  },
  {
   "metadata": {},
   "cell_type": "markdown",
   "source": "# EasyOCR",
   "id": "76f1caaa2ecd5363"
  },
  {
   "metadata": {
    "ExecuteTime": {
     "end_time": "2024-11-21T09:58:28.003552Z",
     "start_time": "2024-11-21T09:58:28.001625Z"
    }
   },
   "cell_type": "code",
   "source": "import easyocr",
   "id": "ec3b6c6e41f3dcd3",
   "outputs": [],
   "execution_count": 17
  },
  {
   "metadata": {
    "ExecuteTime": {
     "end_time": "2024-11-21T09:58:29.810876Z",
     "start_time": "2024-11-21T09:58:28.049627Z"
    }
   },
   "cell_type": "code",
   "source": "reader = easyocr.Reader([\"ch_tra\", \"en\"])",
   "id": "ceecf163a9ef628",
   "outputs": [],
   "execution_count": 18
  },
  {
   "metadata": {},
   "cell_type": "markdown",
   "source": "## Use PIL format",
   "id": "c1b1b6504a2044aa"
  },
  {
   "metadata": {
    "ExecuteTime": {
     "end_time": "2024-11-21T09:58:29.981303Z",
     "start_time": "2024-11-21T09:58:29.850138Z"
    }
   },
   "cell_type": "code",
   "source": [
    "result: str = reader.readtext(image)\n",
    "result"
   ],
   "id": "fe9416a44bb6f520",
   "outputs": [
    {
     "data": {
      "text/plain": [
       "[([[396, 58], [892, 58], [892, 182], [396, 182]], '台 灣 省', 0.5560524089524486),\n",
       " ([[24, 94], [1240, 94], [1240, 564], [24, 564]],\n",
       "  '5799:|E',\n",
       "  0.08643126358594667)]"
      ]
     },
     "execution_count": 19,
     "metadata": {},
     "output_type": "execute_result"
    }
   ],
   "execution_count": 19
  },
  {
   "metadata": {},
   "cell_type": "markdown",
   "source": "## Use picture directly",
   "id": "8a5230f1234bf4fb"
  },
  {
   "metadata": {
    "ExecuteTime": {
     "end_time": "2024-11-21T09:58:30.178493Z",
     "start_time": "2024-11-21T09:58:30.040622Z"
    }
   },
   "cell_type": "code",
   "source": [
    "result = reader.readtext(\"test.jpg\")\n",
    "result"
   ],
   "id": "8f9b089b60e582cf",
   "outputs": [
    {
     "data": {
      "text/plain": [
       "[([[395, 55], [892, 55], [892, 184], [395, 184]], '台 灣 省', 0.5881829155408589),\n",
       " ([[28, 96], [1238, 96], [1238, 558], [28, 558]], '5799[', 0.571649334960633)]"
      ]
     },
     "execution_count": 20,
     "metadata": {},
     "output_type": "execute_result"
    }
   ],
   "execution_count": 20
  },
  {
   "metadata": {},
   "cell_type": "markdown",
   "source": "# Tesseract",
   "id": "e35e8573157add4e"
  },
  {
   "metadata": {
    "ExecuteTime": {
     "end_time": "2024-11-21T09:58:30.247663Z",
     "start_time": "2024-11-21T09:58:30.246237Z"
    }
   },
   "cell_type": "code",
   "source": "import pytesseract",
   "id": "6550496c525efe57",
   "outputs": [],
   "execution_count": 21
  },
  {
   "metadata": {
    "ExecuteTime": {
     "end_time": "2024-11-21T09:58:30.294375Z",
     "start_time": "2024-11-21T09:58:30.292082Z"
    }
   },
   "cell_type": "code",
   "source": "config: str = \"--psm 6 --oem 1\"",
   "id": "190779a639305d3a",
   "outputs": [],
   "execution_count": 22
  },
  {
   "metadata": {
    "ExecuteTime": {
     "end_time": "2024-11-21T09:58:30.671462Z",
     "start_time": "2024-11-21T09:58:30.337504Z"
    }
   },
   "cell_type": "code",
   "source": [
    "result = pytesseract.image_to_string(image, lang=\"chi_tra+eng\", config=config)\n",
    "result"
   ],
   "id": "946cce765b924000",
   "outputs": [
    {
     "data": {
      "text/plain": [
       "'5799KE\\n'"
      ]
     },
     "execution_count": 23,
     "metadata": {},
     "output_type": "execute_result"
    }
   ],
   "execution_count": 23
  },
  {
   "metadata": {},
   "cell_type": "markdown",
   "source": "# TrOCR",
   "id": "84b394de1a9d3428"
  },
  {
   "metadata": {
    "ExecuteTime": {
     "end_time": "2024-11-21T09:58:30.713380Z",
     "start_time": "2024-11-21T09:58:30.711438Z"
    }
   },
   "cell_type": "code",
   "source": "from transformers import TrOCRProcessor, VisionEncoderDecoderModel",
   "id": "53f20320f0efd93",
   "outputs": [],
   "execution_count": 24
  },
  {
   "metadata": {
    "ExecuteTime": {
     "end_time": "2024-11-21T09:58:35.841977Z",
     "start_time": "2024-11-21T09:58:30.754257Z"
    }
   },
   "cell_type": "code",
   "source": [
    "processor = TrOCRProcessor.from_pretrained(\"microsoft/trocr-base-printed\", clean_up_tokenization_spaces=True)\n",
    "model = VisionEncoderDecoderModel.from_pretrained(\"microsoft/trocr-base-printed\")"
   ],
   "id": "cf049705cf42959e",
   "outputs": [
    {
     "name": "stderr",
     "output_type": "stream",
     "text": [
      "Some weights of VisionEncoderDecoderModel were not initialized from the model checkpoint at microsoft/trocr-base-printed and are newly initialized: ['encoder.pooler.dense.bias', 'encoder.pooler.dense.weight']\n",
      "You should probably TRAIN this model on a down-stream task to be able to use it for predictions and inference.\n"
     ]
    }
   ],
   "execution_count": 25
  },
  {
   "metadata": {
    "ExecuteTime": {
     "end_time": "2024-11-21T09:58:35.899841Z",
     "start_time": "2024-11-21T09:58:35.884602Z"
    }
   },
   "cell_type": "code",
   "source": "encode_image = processor(image.convert(\"RGB\"), return_tensors=\"pt\").pixel_values",
   "id": "cd0c9a226c549296",
   "outputs": [],
   "execution_count": 26
  },
  {
   "metadata": {
    "ExecuteTime": {
     "end_time": "2024-11-21T09:58:38.038493Z",
     "start_time": "2024-11-21T09:58:35.938902Z"
    }
   },
   "cell_type": "code",
   "source": "generated_ids = model.generate(encode_image, max_length=20)",
   "id": "205ec2a7ffa60660",
   "outputs": [],
   "execution_count": 27
  },
  {
   "metadata": {
    "ExecuteTime": {
     "end_time": "2024-11-21T09:58:38.081365Z",
     "start_time": "2024-11-21T09:58:38.079114Z"
    }
   },
   "cell_type": "code",
   "source": [
    "result = processor.batch_decode(generated_ids, skip_special_tokens=True)[0]\n",
    "result"
   ],
   "id": "2df224a7178e43a1",
   "outputs": [
    {
     "data": {
      "text/plain": [
       "'5799KE'"
      ]
     },
     "execution_count": 28,
     "metadata": {},
     "output_type": "execute_result"
    }
   ],
   "execution_count": 28
  }
 ],
 "metadata": {
  "kernelspec": {
   "display_name": "Python 3",
   "language": "python",
   "name": "python3"
  },
  "language_info": {
   "codemirror_mode": {
    "name": "ipython",
    "version": 2
   },
   "file_extension": ".py",
   "mimetype": "text/x-python",
   "name": "python",
   "nbconvert_exporter": "python",
   "pygments_lexer": "ipython2",
   "version": "2.7.6"
  }
 },
 "nbformat": 4,
 "nbformat_minor": 5
}
