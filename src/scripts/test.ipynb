{
 "cells": [
  {
   "cell_type": "code",
   "execution_count": 17,
   "id": "initial_id",
   "metadata": {
    "ExecuteTime": {
     "end_time": "2024-10-25T07:47:03.591181Z",
     "start_time": "2024-10-25T07:47:03.564464Z"
    },
    "collapsed": true
   },
   "outputs": [],
   "source": [
    "from transformers import TrOCRProcessor, VisionEncoderDecoderModel\n",
    "\n",
    "from datasets import load_dataset\n",
    "from taiwan_license_plate_recognition.helper import get_num_of_workers"
   ]
  },
  {
   "cell_type": "code",
   "execution_count": 18,
   "id": "58e0ca1930a51ee9",
   "metadata": {
    "ExecuteTime": {
     "end_time": "2024-10-25T07:47:03.959231Z",
     "start_time": "2024-10-25T07:47:03.954817Z"
    }
   },
   "outputs": [],
   "source": [
    "num_workers: int = get_num_of_workers()"
   ]
  },
  {
   "cell_type": "code",
   "execution_count": 24,
   "id": "9d37e44851b93112",
   "metadata": {
    "ExecuteTime": {
     "end_time": "2024-10-25T07:48:09.442206Z",
     "start_time": "2024-10-25T07:48:05.965278Z"
    }
   },
   "outputs": [],
   "source": [
    "dataset = load_dataset(\"gagan3012/IAM\", keep_in_memory=True, num_proc=num_workers).remove_columns([\"label\"])[\"train\"]"
   ]
  },
  {
   "cell_type": "code",
   "execution_count": 25,
   "id": "b69fbe5fdfc0eb14",
   "metadata": {
    "ExecuteTime": {
     "end_time": "2024-10-25T07:48:09.451426Z",
     "start_time": "2024-10-25T07:48:09.446042Z"
    }
   },
   "outputs": [],
   "source": [
    "dataset = dataset.train_test_split(test_size=0.2, shuffle=True, seed=37710)"
   ]
  },
  {
   "cell_type": "markdown",
   "id": "cbd414a25df53ed7",
   "metadata": {},
   "source": ""
  },
  {
   "cell_type": "code",
   "execution_count": 30,
   "id": "2bedc4e3a8103783",
   "metadata": {
    "ExecuteTime": {
     "end_time": "2024-10-25T07:48:45.293625Z",
     "start_time": "2024-10-25T07:48:45.277998Z"
    }
   },
   "outputs": [],
   "source": [
    "train_dataset = dataset[\"train\"].train_test_split(test_size=0.125, shuffle=True, seed=37710)"
   ]
  },
  {
   "cell_type": "code",
   "execution_count": 31,
   "id": "43eb307fd80384d4",
   "metadata": {
    "ExecuteTime": {
     "end_time": "2024-10-25T07:48:45.726945Z",
     "start_time": "2024-10-25T07:48:45.723590Z"
    }
   },
   "outputs": [
    {
     "data": {
      "text/plain": [
       "DatasetDict({\n",
       "    train: Dataset({\n",
       "        features: ['image', 'text'],\n",
       "        num_rows: 7940\n",
       "    })\n",
       "    test: Dataset({\n",
       "        features: ['image', 'text'],\n",
       "        num_rows: 1135\n",
       "    })\n",
       "})"
      ]
     },
     "execution_count": 31,
     "metadata": {},
     "output_type": "execute_result"
    }
   ],
   "source": [
    "train_dataset"
   ]
  },
  {
   "cell_type": "code",
   "execution_count": 32,
   "id": "a1919b5f5b6e48d6",
   "metadata": {
    "ExecuteTime": {
     "end_time": "2024-10-25T07:49:03.819698Z",
     "start_time": "2024-10-25T07:49:03.815731Z"
    }
   },
   "outputs": [],
   "source": [
    "dataset[\"train\"] = train_dataset[\"train\"]\n",
    "dataset[\"validation\"] = train_dataset[\"test\"]"
   ]
  },
  {
   "cell_type": "code",
   "execution_count": 33,
   "id": "e5004ace2586ee96",
   "metadata": {
    "ExecuteTime": {
     "end_time": "2024-10-25T07:49:04.586878Z",
     "start_time": "2024-10-25T07:49:04.582123Z"
    }
   },
   "outputs": [
    {
     "data": {
      "text/plain": [
       "DatasetDict({\n",
       "    train: Dataset({\n",
       "        features: ['image', 'text'],\n",
       "        num_rows: 7940\n",
       "    })\n",
       "    test: Dataset({\n",
       "        features: ['image', 'text'],\n",
       "        num_rows: 2269\n",
       "    })\n",
       "    validation: Dataset({\n",
       "        features: ['image', 'text'],\n",
       "        num_rows: 1135\n",
       "    })\n",
       "})"
      ]
     },
     "execution_count": 33,
     "metadata": {},
     "output_type": "execute_result"
    }
   ],
   "source": [
    "dataset"
   ]
  },
  {
   "cell_type": "code",
   "execution_count": 5,
   "id": "f4b5b6cd2dd528cc",
   "metadata": {
    "ExecuteTime": {
     "end_time": "2024-10-25T06:54:17.038752Z",
     "start_time": "2024-10-25T06:54:15.833662Z"
    }
   },
   "outputs": [],
   "source": [
    "processor = TrOCRProcessor.from_pretrained(\"microsoft/trocr-base-handwritten\")"
   ]
  },
  {
   "cell_type": "code",
   "execution_count": 6,
   "id": "9047f25fd3da484a",
   "metadata": {
    "ExecuteTime": {
     "end_time": "2024-10-25T06:54:26.711607Z",
     "start_time": "2024-10-25T06:54:17.101199Z"
    }
   },
   "outputs": [
    {
     "name": "stderr",
     "output_type": "stream",
     "text": [
      "Config of the encoder: <class 'transformers.models.vit.modeling_vit.ViTModel'> is overwritten by shared encoder config: ViTConfig {\n",
      "  \"attention_probs_dropout_prob\": 0.0,\n",
      "  \"encoder_stride\": 16,\n",
      "  \"hidden_act\": \"gelu\",\n",
      "  \"hidden_dropout_prob\": 0.0,\n",
      "  \"hidden_size\": 768,\n",
      "  \"image_size\": 384,\n",
      "  \"initializer_range\": 0.02,\n",
      "  \"intermediate_size\": 3072,\n",
      "  \"layer_norm_eps\": 1e-12,\n",
      "  \"model_type\": \"vit\",\n",
      "  \"num_attention_heads\": 12,\n",
      "  \"num_channels\": 3,\n",
      "  \"num_hidden_layers\": 12,\n",
      "  \"patch_size\": 16,\n",
      "  \"qkv_bias\": false,\n",
      "  \"transformers_version\": \"4.46.0\"\n",
      "}\n",
      "\n",
      "Config of the decoder: <class 'transformers.models.trocr.modeling_trocr.TrOCRForCausalLM'> is overwritten by shared decoder config: TrOCRConfig {\n",
      "  \"activation_dropout\": 0.0,\n",
      "  \"activation_function\": \"relu\",\n",
      "  \"add_cross_attention\": true,\n",
      "  \"attention_dropout\": 0.0,\n",
      "  \"bos_token_id\": 0,\n",
      "  \"classifier_dropout\": 0.0,\n",
      "  \"cross_attention_hidden_size\": 768,\n",
      "  \"d_model\": 1024,\n",
      "  \"decoder_attention_heads\": 16,\n",
      "  \"decoder_ffn_dim\": 4096,\n",
      "  \"decoder_layerdrop\": 0.0,\n",
      "  \"decoder_layers\": 12,\n",
      "  \"decoder_start_token_id\": 2,\n",
      "  \"dropout\": 0.1,\n",
      "  \"eos_token_id\": 2,\n",
      "  \"init_std\": 0.02,\n",
      "  \"is_decoder\": true,\n",
      "  \"layernorm_embedding\": false,\n",
      "  \"max_position_embeddings\": 1024,\n",
      "  \"model_type\": \"trocr\",\n",
      "  \"pad_token_id\": 1,\n",
      "  \"scale_embedding\": true,\n",
      "  \"tie_word_embeddings\": false,\n",
      "  \"transformers_version\": \"4.46.0\",\n",
      "  \"use_cache\": false,\n",
      "  \"use_learned_position_embeddings\": false,\n",
      "  \"vocab_size\": 50265\n",
      "}\n",
      "\n",
      "Some weights of VisionEncoderDecoderModel were not initialized from the model checkpoint at microsoft/trocr-base-stage1 and are newly initialized: ['encoder.pooler.dense.bias', 'encoder.pooler.dense.weight']\n",
      "You should probably TRAIN this model on a down-stream task to be able to use it for predictions and inference.\n"
     ]
    }
   ],
   "source": [
    "base_model = VisionEncoderDecoderModel.from_pretrained(\"microsoft/trocr-base-stage1\")"
   ]
  },
  {
   "cell_type": "code",
   "execution_count": 7,
   "id": "be64539acba51d9",
   "metadata": {
    "ExecuteTime": {
     "end_time": "2024-10-25T06:54:26.781450Z",
     "start_time": "2024-10-25T06:54:26.779102Z"
    }
   },
   "outputs": [],
   "source": [
    "# set special tokens used for creating the decoder_input_ids from the labels\n",
    "base_model.config.decoder_start_token_id = processor.tokenizer.cls_token_id\n",
    "base_model.config.pad_token_id = processor.tokenizer.pad_token_id\n",
    "# make sure vocab size is set correctly\n",
    "base_model.config.vocab_size = base_model.config.decoder.vocab_size\n",
    "\n",
    "# set beam search parameters\n",
    "base_model.config.eos_token_id = processor.tokenizer.sep_token_id\n",
    "base_model.config.max_length = 64\n",
    "base_model.config.early_stopping = True\n",
    "base_model.config.no_repeat_ngram_size = 3\n",
    "base_model.config.length_penalty = 2.0\n",
    "base_model.config.num_beams = 4"
   ]
  },
  {
   "cell_type": "code",
   "execution_count": null,
   "id": "27415cadcbffe0da",
   "metadata": {
    "ExecuteTime": {
     "start_time": "2024-10-25T06:51:29.985231Z"
    },
    "jupyter": {
     "is_executing": true
    }
   },
   "outputs": [
    {
     "data": {
      "application/vnd.jupyter.widget-view+json": {
       "model_id": "8ebe1ff1915d4b71b4c58d668d9370db",
       "version_major": 2,
       "version_minor": 0
      },
      "text/plain": [
       "Map (num_proc=8):   0%|          | 0/9075 [00:00<?, ? examples/s]"
      ]
     },
     "metadata": {},
     "output_type": "display_data"
    }
   ],
   "source": [
    "dataset = dataset.map(\n",
    "\tlambda samples: {\n",
    "\t\t\"data\": [processor.image_processor(image.convert(\"RGB\"), return_tensors=\"pt\").pixel_values for image in samples]\n",
    "\t},\n",
    "\tinput_columns=[\"image\"],\n",
    "\tremove_columns=[\"image\"],\n",
    "\tbatched=True,\n",
    "\tnum_proc=num_workers,\n",
    ")"
   ]
  },
  {
   "cell_type": "code",
   "execution_count": 13,
   "id": "4ebc2748fd296244",
   "metadata": {
    "ExecuteTime": {
     "end_time": "2024-10-25T06:57:15.513787Z",
     "start_time": "2024-10-25T06:56:04.186251Z"
    }
   },
   "outputs": [
    {
     "data": {
      "application/vnd.jupyter.widget-view+json": {
       "model_id": "d2821d6062e04eb3ab4268641101e5fb",
       "version_major": 2,
       "version_minor": 0
      },
      "text/plain": [
       "Map (num_proc=8):   0%|          | 0/9075 [00:00<?, ? examples/s]"
      ]
     },
     "metadata": {},
     "output_type": "display_data"
    },
    {
     "data": {
      "application/vnd.jupyter.widget-view+json": {
       "model_id": "f077bccfaec142d0bef17be3da44615e",
       "version_major": 2,
       "version_minor": 0
      },
      "text/plain": [
       "Map (num_proc=8):   0%|          | 0/2269 [00:00<?, ? examples/s]"
      ]
     },
     "metadata": {},
     "output_type": "display_data"
    }
   ],
   "source": [
    "dataset = dataset.map(\n",
    "\tlambda samples: {\"label\": [processor.tokenizer(text, padding=\"max_length\").input_ids for text in samples]},\n",
    "\tinput_columns=[\"text\"],\n",
    "\tremove_columns=[\"text\"],\n",
    "\tbatched=True,\n",
    "\tnum_proc=num_workers,\n",
    ")"
   ]
  },
  {
   "cell_type": "code",
   "execution_count": null,
   "id": "59481795da4432a2",
   "metadata": {},
   "outputs": [],
   "source": []
  }
 ],
 "metadata": {
  "kernelspec": {
   "display_name": "Python 3",
   "language": "python",
   "name": "python3"
  },
  "language_info": {
   "codemirror_mode": {
    "name": "ipython",
    "version": 2
   },
   "file_extension": ".py",
   "mimetype": "text/x-python",
   "name": "python",
   "nbconvert_exporter": "python",
   "pygments_lexer": "ipython2",
   "version": "2.7.6"
  }
 },
 "nbformat": 4,
 "nbformat_minor": 5
}
