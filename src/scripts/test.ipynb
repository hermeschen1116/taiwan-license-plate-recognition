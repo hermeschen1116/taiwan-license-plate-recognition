{
 "cells": [
  {
   "cell_type": "code",
   "execution_count": 91,
   "id": "initial_id",
   "metadata": {
    "ExecuteTime": {
     "end_time": "2024-10-25T05:14:55.546057Z",
     "start_time": "2024-10-25T05:14:55.539329Z"
    },
    "collapsed": true
   },
   "outputs": [],
   "source": [
    "from transformers import TrOCRProcessor, VisionEncoderDecoderModel\n",
    "\n",
    "from datasets import load_dataset\n",
    "from license_plate_recognition.helper import get_num_of_workers"
   ]
  },
  {
   "cell_type": "code",
   "execution_count": 92,
   "id": "58e0ca1930a51ee9",
   "metadata": {
    "ExecuteTime": {
     "end_time": "2024-10-25T05:14:55.554163Z",
     "start_time": "2024-10-25T05:14:55.551341Z"
    }
   },
   "outputs": [],
   "source": [
    "num_workers: int = get_num_of_workers()"
   ]
  },
  {
   "cell_type": "code",
   "execution_count": 93,
   "id": "9d37e44851b93112",
   "metadata": {
    "ExecuteTime": {
     "end_time": "2024-10-25T05:14:58.220011Z",
     "start_time": "2024-10-25T05:14:55.706300Z"
    }
   },
   "outputs": [],
   "source": [
    "dataset = load_dataset(\"gagan3012/IAM\", keep_in_memory=True, num_proc=num_workers).remove_columns([\"label\"])"
   ]
  },
  {
   "cell_type": "code",
   "execution_count": 94,
   "id": "b62892334f136513",
   "metadata": {
    "ExecuteTime": {
     "end_time": "2024-10-25T05:14:58.346126Z",
     "start_time": "2024-10-25T05:14:58.343790Z"
    }
   },
   "outputs": [
    {
     "data": {
      "text/plain": [
       "DatasetDict({\n",
       "    train: Dataset({\n",
       "        features: ['image', 'text'],\n",
       "        num_rows: 11344\n",
       "    })\n",
       "})"
      ]
     },
     "execution_count": 94,
     "metadata": {},
     "output_type": "execute_result"
    }
   ],
   "source": [
    "dataset"
   ]
  },
  {
   "cell_type": "code",
   "execution_count": 95,
   "id": "f4b5b6cd2dd528cc",
   "metadata": {
    "ExecuteTime": {
     "end_time": "2024-10-25T05:14:59.507470Z",
     "start_time": "2024-10-25T05:14:58.473768Z"
    }
   },
   "outputs": [],
   "source": [
    "tokenizer = TrOCRProcessor.from_pretrained(\"microsoft/trocr-base-handwritten\")"
   ]
  },
  {
   "cell_type": "code",
   "execution_count": 96,
   "id": "9047f25fd3da484a",
   "metadata": {
    "ExecuteTime": {
     "end_time": "2024-10-25T05:15:12.144330Z",
     "start_time": "2024-10-25T05:14:59.626999Z"
    }
   },
   "outputs": [
    {
     "name": "stderr",
     "output_type": "stream",
     "text": [
      "Config of the encoder: <class 'transformers.models.vit.modeling_vit.ViTModel'> is overwritten by shared encoder config: ViTConfig {\n",
      "  \"attention_probs_dropout_prob\": 0.0,\n",
      "  \"encoder_stride\": 16,\n",
      "  \"hidden_act\": \"gelu\",\n",
      "  \"hidden_dropout_prob\": 0.0,\n",
      "  \"hidden_size\": 768,\n",
      "  \"image_size\": 384,\n",
      "  \"initializer_range\": 0.02,\n",
      "  \"intermediate_size\": 3072,\n",
      "  \"layer_norm_eps\": 1e-12,\n",
      "  \"model_type\": \"vit\",\n",
      "  \"num_attention_heads\": 12,\n",
      "  \"num_channels\": 3,\n",
      "  \"num_hidden_layers\": 12,\n",
      "  \"patch_size\": 16,\n",
      "  \"qkv_bias\": false,\n",
      "  \"transformers_version\": \"4.46.0\"\n",
      "}\n",
      "\n",
      "Config of the decoder: <class 'transformers.models.trocr.modeling_trocr.TrOCRForCausalLM'> is overwritten by shared decoder config: TrOCRConfig {\n",
      "  \"activation_dropout\": 0.0,\n",
      "  \"activation_function\": \"relu\",\n",
      "  \"add_cross_attention\": true,\n",
      "  \"attention_dropout\": 0.0,\n",
      "  \"bos_token_id\": 0,\n",
      "  \"classifier_dropout\": 0.0,\n",
      "  \"cross_attention_hidden_size\": 768,\n",
      "  \"d_model\": 1024,\n",
      "  \"decoder_attention_heads\": 16,\n",
      "  \"decoder_ffn_dim\": 4096,\n",
      "  \"decoder_layerdrop\": 0.0,\n",
      "  \"decoder_layers\": 12,\n",
      "  \"decoder_start_token_id\": 2,\n",
      "  \"dropout\": 0.1,\n",
      "  \"eos_token_id\": 2,\n",
      "  \"init_std\": 0.02,\n",
      "  \"is_decoder\": true,\n",
      "  \"layernorm_embedding\": false,\n",
      "  \"max_position_embeddings\": 1024,\n",
      "  \"model_type\": \"trocr\",\n",
      "  \"pad_token_id\": 1,\n",
      "  \"scale_embedding\": true,\n",
      "  \"tie_word_embeddings\": false,\n",
      "  \"transformers_version\": \"4.46.0\",\n",
      "  \"use_cache\": false,\n",
      "  \"use_learned_position_embeddings\": false,\n",
      "  \"vocab_size\": 50265\n",
      "}\n",
      "\n",
      "Some weights of VisionEncoderDecoderModel were not initialized from the model checkpoint at microsoft/trocr-base-stage1 and are newly initialized: ['encoder.pooler.dense.bias', 'encoder.pooler.dense.weight']\n",
      "You should probably TRAIN this model on a down-stream task to be able to use it for predictions and inference.\n"
     ]
    }
   ],
   "source": [
    "base_model = VisionEncoderDecoderModel.from_pretrained(\"microsoft/trocr-base-stage1\")"
   ]
  },
  {
   "cell_type": "code",
   "execution_count": null,
   "id": "4ebc2748fd296244",
   "metadata": {
    "ExecuteTime": {
     "end_time": "2024-10-25T05:15:12.317445Z",
     "start_time": "2024-10-25T05:15:12.315972Z"
    }
   },
   "outputs": [],
   "source": []
  }
 ],
 "metadata": {
  "kernelspec": {
   "display_name": "Python 3",
   "language": "python",
   "name": "python3"
  },
  "language_info": {
   "codemirror_mode": {
    "name": "ipython",
    "version": 2
   },
   "file_extension": ".py",
   "mimetype": "text/x-python",
   "name": "python",
   "nbconvert_exporter": "python",
   "pygments_lexer": "ipython2",
   "version": "2.7.6"
  }
 },
 "nbformat": 4,
 "nbformat_minor": 5
}
