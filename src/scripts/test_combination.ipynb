{
 "cells": [
  {
   "cell_type": "code",
   "id": "55a19ec86af1cdf6",
   "metadata": {
    "ExecuteTime": {
     "end_time": "2024-12-05T08:37:11.531149Z",
     "start_time": "2024-12-05T08:37:11.528013Z"
    }
   },
   "source": [
    "import os\n",
    "\n",
    "import cv2\n",
    "import numpy\n",
    "from PIL import Image\n",
    "from optimum.intel import OVModelForVision2Seq, OVWeightQuantizationConfig\n",
    "from roboflow import Roboflow\n",
    "from transformers import ImageToTextPipeline, TrOCRProcessor\n",
    "from ultralytics import YOLO\n",
    "\n",
    "import wandb\n",
    "from taiwan_license_plate_recognition.helper import get_num_of_workers"
   ],
   "outputs": [],
   "execution_count": 27
  },
  {
   "cell_type": "code",
   "id": "ba7ad7f3219b8935",
   "metadata": {
    "ExecuteTime": {
     "end_time": "2024-12-05T08:37:11.555292Z",
     "start_time": "2024-12-05T08:37:11.534324Z"
    }
   },
   "source": [
    "%load_ext dotenv\n",
    "%dotenv\n",
    "%matplotlib inline"
   ],
   "outputs": [
    {
     "name": "stdout",
     "output_type": "stream",
     "text": [
      "The dotenv extension is already loaded. To reload it, use:\n",
      "  %reload_ext dotenv\n"
     ]
    }
   ],
   "execution_count": 28
  },
  {
   "cell_type": "code",
   "id": "33c8495169945d79",
   "metadata": {
    "ExecuteTime": {
     "end_time": "2024-12-05T08:37:11.607405Z",
     "start_time": "2024-12-05T08:37:11.602732Z"
    }
   },
   "source": [
    "project_root: str = os.environ.get(\"PROJECT_ROOT\", \"\")\n",
    "num_workers: int = get_num_of_workers()"
   ],
   "outputs": [],
   "execution_count": 29
  },
  {
   "cell_type": "code",
   "id": "84fa51f2a6fffa33",
   "metadata": {
    "ExecuteTime": {
     "end_time": "2024-12-05T08:37:16.105040Z",
     "start_time": "2024-12-05T08:37:11.655719Z"
    }
   },
   "source": [
    "run = wandb.init(project=\"taiwan-license-plate-recognition\", job_type=\"other\", group=\"combination\")"
   ],
   "outputs": [
    {
     "data": {
      "text/plain": [
       "<IPython.core.display.HTML object>"
      ],
      "text/html": [
       "Finishing last run (ID:woeyebni) before initializing another..."
      ]
     },
     "metadata": {},
     "output_type": "display_data"
    },
    {
     "data": {
      "text/plain": [
       "VBox(children=(Label(value='0.047 MB of 0.047 MB uploaded\\r'), FloatProgress(value=1.0, max=1.0)))"
      ],
      "application/vnd.jupyter.widget-view+json": {
       "version_major": 2,
       "version_minor": 0,
       "model_id": "22a05ec40f6a4488b5fecd4202dd36ce"
      }
     },
     "metadata": {},
     "output_type": "display_data"
    },
    {
     "data": {
      "text/plain": [
       "<IPython.core.display.HTML object>"
      ],
      "text/html": [
       " View run <strong style=\"color:#cdcd00\">smart-forest-1251</strong> at: <a href='https://wandb.ai/hermeschen1116/taiwan-license-plate-recognition/runs/woeyebni' target=\"_blank\">https://wandb.ai/hermeschen1116/taiwan-license-plate-recognition/runs/woeyebni</a><br/> View project at: <a href='https://wandb.ai/hermeschen1116/taiwan-license-plate-recognition' target=\"_blank\">https://wandb.ai/hermeschen1116/taiwan-license-plate-recognition</a><br/>Synced 5 W&B file(s), 0 media file(s), 2 artifact file(s) and 0 other file(s)"
      ]
     },
     "metadata": {},
     "output_type": "display_data"
    },
    {
     "data": {
      "text/plain": [
       "<IPython.core.display.HTML object>"
      ],
      "text/html": [
       "Find logs at: <code>./wandb/run-20241205_163655-woeyebni/logs</code>"
      ]
     },
     "metadata": {},
     "output_type": "display_data"
    },
    {
     "data": {
      "text/plain": [
       "<IPython.core.display.HTML object>"
      ],
      "text/html": [
       "Successfully finished last run (ID:woeyebni). Initializing new run:<br/>"
      ]
     },
     "metadata": {},
     "output_type": "display_data"
    },
    {
     "data": {
      "text/plain": [
       "<IPython.core.display.HTML object>"
      ],
      "text/html": [
       "Tracking run with wandb version 0.18.7"
      ]
     },
     "metadata": {},
     "output_type": "display_data"
    },
    {
     "data": {
      "text/plain": [
       "<IPython.core.display.HTML object>"
      ],
      "text/html": [
       "Run data is saved locally in <code>/home/hermeschen/Repo/taiwan-license-plate-recognition/src/scripts/wandb/run-20241205_163711-sta7aijg</code>"
      ]
     },
     "metadata": {},
     "output_type": "display_data"
    },
    {
     "data": {
      "text/plain": [
       "<IPython.core.display.HTML object>"
      ],
      "text/html": [
       "Syncing run <strong><a href='https://wandb.ai/hermeschen1116/taiwan-license-plate-recognition/runs/sta7aijg' target=\"_blank\">icy-microwave-1252</a></strong> to <a href='https://wandb.ai/hermeschen1116/taiwan-license-plate-recognition' target=\"_blank\">Weights & Biases</a> (<a href='https://wandb.me/developer-guide' target=\"_blank\">docs</a>)<br/>"
      ]
     },
     "metadata": {},
     "output_type": "display_data"
    },
    {
     "data": {
      "text/plain": [
       "<IPython.core.display.HTML object>"
      ],
      "text/html": [
       " View project at <a href='https://wandb.ai/hermeschen1116/taiwan-license-plate-recognition' target=\"_blank\">https://wandb.ai/hermeschen1116/taiwan-license-plate-recognition</a>"
      ]
     },
     "metadata": {},
     "output_type": "display_data"
    },
    {
     "data": {
      "text/plain": [
       "<IPython.core.display.HTML object>"
      ],
      "text/html": [
       " View run at <a href='https://wandb.ai/hermeschen1116/taiwan-license-plate-recognition/runs/sta7aijg' target=\"_blank\">https://wandb.ai/hermeschen1116/taiwan-license-plate-recognition/runs/sta7aijg</a>"
      ]
     },
     "metadata": {},
     "output_type": "display_data"
    }
   ],
   "execution_count": 30
  },
  {
   "cell_type": "code",
   "id": "6562850edabd26b5",
   "metadata": {
    "ExecuteTime": {
     "end_time": "2024-12-05T08:37:16.488931Z",
     "start_time": "2024-12-05T08:37:16.153311Z"
    }
   },
   "source": [
    "roboflow_agent = Roboflow(api_key=os.environ.get(\"ROBOFLOW_API_KEY\"))"
   ],
   "outputs": [],
   "execution_count": 31
  },
  {
   "cell_type": "code",
   "id": "eb419eafcecc2166",
   "metadata": {
    "ExecuteTime": {
     "end_time": "2024-12-05T08:37:18.583156Z",
     "start_time": "2024-12-05T08:37:16.588197Z"
    }
   },
   "source": [
    "dataset = (\n",
    "\troboflow_agent.workspace(\"work-c9x8f\")\n",
    "\t.project(\"license-plate-detection-mdsot\")\n",
    "\t.version(6)\n",
    "\t.download(\"yolov8-obb\", location=f\"{project_root}/datasets/roboflow\")\n",
    ")"
   ],
   "outputs": [
    {
     "name": "stdout",
     "output_type": "stream",
     "text": [
      "loading Roboflow workspace...\n",
      "loading Roboflow project...\n"
     ]
    }
   ],
   "execution_count": 32
  },
  {
   "cell_type": "code",
   "id": "f1756db9771c3407",
   "metadata": {
    "ExecuteTime": {
     "end_time": "2024-12-05T08:37:20.171525Z",
     "start_time": "2024-12-05T08:37:18.588159Z"
    }
   },
   "source": [
    "model_path: str = run.use_model(\"license-plate-detection:latest\")"
   ],
   "outputs": [
    {
     "name": "stderr",
     "output_type": "stream",
     "text": [
      "\u001B[34m\u001B[1mwandb\u001B[0m:   3 of 3 files downloaded.  \n"
     ]
    }
   ],
   "execution_count": 33
  },
  {
   "cell_type": "code",
   "id": "5ffd911a6c9c4999",
   "metadata": {
    "ExecuteTime": {
     "end_time": "2024-12-05T08:37:20.223579Z",
     "start_time": "2024-12-05T08:37:20.220524Z"
    }
   },
   "source": [
    "os.replace(model_path, f\"{model_path}_openvino_model\")"
   ],
   "outputs": [],
   "execution_count": 34
  },
  {
   "cell_type": "code",
   "id": "initial_id",
   "metadata": {
    "collapsed": true,
    "ExecuteTime": {
     "end_time": "2024-12-05T08:37:20.271728Z",
     "start_time": "2024-12-05T08:37:20.269653Z"
    }
   },
   "source": [
    "model = YOLO(f\"{model_path}_openvino_model\", task=\"obb\")"
   ],
   "outputs": [],
   "execution_count": 35
  },
  {
   "cell_type": "code",
   "id": "718558319bfc6211",
   "metadata": {
    "ExecuteTime": {
     "end_time": "2024-12-05T08:37:20.321705Z",
     "start_time": "2024-12-05T08:37:20.319236Z"
    }
   },
   "source": [
    "test_image_path: str = (\n",
    "\tf\"{project_root}/datasets/roboflow/train/images/000001_jpg.rf.27e1551f828338908b6c02b147c4d366.jpg\"\n",
    ")"
   ],
   "outputs": [],
   "execution_count": 36
  },
  {
   "cell_type": "code",
   "id": "e89a4a8da06c4cae",
   "metadata": {
    "ExecuteTime": {
     "end_time": "2024-12-05T08:37:21.706975Z",
     "start_time": "2024-12-05T08:37:20.366369Z"
    }
   },
   "source": [
    "results = model.predict(test_image_path, device=\"cpu\")"
   ],
   "outputs": [
    {
     "name": "stdout",
     "output_type": "stream",
     "text": [
      "Loading /home/hermeschen/Repo/taiwan-license-plate-recognition/src/scripts/artifacts/license-plate-detection:v0_openvino_model for OpenVINO inference...\n",
      "\n",
      "image 1/1 /home/hermeschen/Repo/taiwan-license-plate-recognition/datasets/roboflow/train/images/000001_jpg.rf.27e1551f828338908b6c02b147c4d366.jpg: 640x640 67.0ms\n",
      "Speed: 16.1ms preprocess, 67.0ms inference, 37.5ms postprocess per image at shape (1, 3, 640, 640)\n"
     ]
    }
   ],
   "execution_count": 37
  },
  {
   "cell_type": "code",
   "id": "da1930cda1f2d741",
   "metadata": {},
   "source": [
    "crop_image = []"
   ],
   "outputs": [],
   "execution_count": 38
  },
  {
   "cell_type": "code",
   "id": "48e908829e9f17d5",
   "metadata": {
    "ExecuteTime": {
     "end_time": "2024-12-05T08:37:21.823393Z",
     "start_time": "2024-12-05T08:37:21.816107Z"
    }
   },
   "source": [
    "for idx, result in enumerate(results):\n",
    "\tfor obb in result.obb.xyxyxyxy:\n",
    "\t\tpoints = obb.cpu().numpy().reshape((-1, 1, 2)).astype(int)\n",
    "\t\tmask = cv2.fillPoly(numpy.zeros_like(result.orig_img), [points], (255, 255, 255))\n",
    "\t\tcropped_img = cv2.bitwise_and(result.orig_img, mask)\n",
    "\t\tcrop_image.append(Image.fromarray(cv2.cvtColor(cropped_img, cv2.COLOR_BGR2RGB)))"
   ],
   "outputs": [],
   "execution_count": 39
  },
  {
   "cell_type": "code",
   "id": "97af8e91382e836c",
   "metadata": {
    "ExecuteTime": {
     "end_time": "2024-12-05T08:37:23.170522Z",
     "start_time": "2024-12-05T08:37:21.869491Z"
    }
   },
   "source": [
    "processor = TrOCRProcessor.from_pretrained(\"microsoft/trocr-base-printed\", clean_up_tokenization_spaces=True)"
   ],
   "outputs": [],
   "execution_count": 40
  },
  {
   "cell_type": "code",
   "id": "ee9f5bead6173075",
   "metadata": {
    "ExecuteTime": {
     "end_time": "2024-12-05T08:37:23.214080Z",
     "start_time": "2024-12-05T08:37:23.212370Z"
    }
   },
   "source": [
    "quantization_config = OVWeightQuantizationConfig()\n",
    "ov_config = {\"PERFORMANCE_HINT\": \"LATENCY\", \"CACHE_DIR\": f\"{project_root}/.ov_cache\"}"
   ],
   "outputs": [],
   "execution_count": 41
  },
  {
   "cell_type": "code",
   "id": "b92befb2983cacc7",
   "metadata": {
    "ExecuteTime": {
     "end_time": "2024-12-05T08:37:53.261064Z",
     "start_time": "2024-12-05T08:37:23.255540Z"
    }
   },
   "source": [
    "model = OVModelForVision2Seq.from_pretrained(\n",
    "\t\"DunnBC22/trocr-base-printed_license_plates_ocr\",\n",
    "\texport=True,\n",
    "\tov_config=ov_config,\n",
    "\tquantization_config=quantization_config,\n",
    "\tdevice=\"cpu\",\n",
    ")"
   ],
   "outputs": [
    {
     "name": "stderr",
     "output_type": "stream",
     "text": [
      "Some non-default generation parameters are set in the model config. These should go into a GenerationConfig file (https://huggingface.co/docs/transformers/generation_strategies#save-a-custom-decoding-strategy-with-your-model) instead. This warning will be raised to an exception in v4.41.\n",
      "Non-default generation parameters: {'max_length': 64, 'early_stopping': True, 'num_beams': 4, 'length_penalty': 2.0, 'no_repeat_ngram_size': 3}\n",
      "Converting a tensor to a Python boolean might cause the trace to be incorrect. We can't record the data flow of Python values, so this value will be treated as a constant in the future. This means that the trace might not generalize to other inputs!\n",
      "Converting a tensor to a Python boolean might cause the trace to be incorrect. We can't record the data flow of Python values, so this value will be treated as a constant in the future. This means that the trace might not generalize to other inputs!\n",
      "Converting a tensor to a Python boolean might cause the trace to be incorrect. We can't record the data flow of Python values, so this value will be treated as a constant in the future. This means that the trace might not generalize to other inputs!\n",
      "Converting a tensor to a Python boolean might cause the trace to be incorrect. We can't record the data flow of Python values, so this value will be treated as a constant in the future. This means that the trace might not generalize to other inputs!\n",
      "Converting a tensor to a Python boolean might cause the trace to be incorrect. We can't record the data flow of Python values, so this value will be treated as a constant in the future. This means that the trace might not generalize to other inputs!\n",
      "Converting a tensor to a Python boolean might cause the trace to be incorrect. We can't record the data flow of Python values, so this value will be treated as a constant in the future. This means that the trace might not generalize to other inputs!\n",
      "Converting a tensor to a Python boolean might cause the trace to be incorrect. We can't record the data flow of Python values, so this value will be treated as a constant in the future. This means that the trace might not generalize to other inputs!\n",
      "Some non-default generation parameters are set in the model config. These should go into a GenerationConfig file (https://huggingface.co/docs/transformers/generation_strategies#save-a-custom-decoding-strategy-with-your-model) instead. This warning will be raised to an exception in v4.41.\n",
      "Non-default generation parameters: {'max_length': 64, 'early_stopping': True, 'num_beams': 4, 'length_penalty': 2.0, 'no_repeat_ngram_size': 3}\n"
     ]
    },
    {
     "name": "stdout",
     "output_type": "stream",
     "text": [
      "INFO:nncf:Statistics of the bitwidth distribution:\n",
      "┍━━━━━━━━━━━━━━━━━━━━━━━━━━━┯━━━━━━━━━━━━━━━━━━━━━━━━━━━━━┯━━━━━━━━━━━━━━━━━━━━━━━━━━━━━━━━━━━━━━━━┑\n",
      "│ Weight compression mode   │ % all parameters (layers)   │ % ratio-defining parameters (layers)   │\n",
      "┝━━━━━━━━━━━━━━━━━━━━━━━━━━━┿━━━━━━━━━━━━━━━━━━━━━━━━━━━━━┿━━━━━━━━━━━━━━━━━━━━━━━━━━━━━━━━━━━━━━━━┥\n",
      "│ int8_asym                 │ 100% (73 / 73)              │ 100% (73 / 73)                         │\n",
      "┕━━━━━━━━━━━━━━━━━━━━━━━━━━━┷━━━━━━━━━━━━━━━━━━━━━━━━━━━━━┷━━━━━━━━━━━━━━━━━━━━━━━━━━━━━━━━━━━━━━━━┙\n"
     ]
    },
    {
     "data": {
      "text/plain": [
       "Output()"
      ],
      "application/vnd.jupyter.widget-view+json": {
       "version_major": 2,
       "version_minor": 0,
       "model_id": "80155174f8274b109e02aa88f48451dc"
      }
     },
     "metadata": {},
     "output_type": "display_data"
    },
    {
     "data": {
      "text/plain": [],
      "text/html": [
       "<pre style=\"white-space:pre;overflow-x:auto;line-height:normal;font-family:Menlo,'DejaVu Sans Mono',consolas,'Courier New',monospace\"></pre>\n"
      ]
     },
     "metadata": {},
     "output_type": "display_data"
    },
    {
     "name": "stdout",
     "output_type": "stream",
     "text": [
      "INFO:nncf:Statistics of the bitwidth distribution:\n",
      "┍━━━━━━━━━━━━━━━━━━━━━━━━━━━┯━━━━━━━━━━━━━━━━━━━━━━━━━━━━━┯━━━━━━━━━━━━━━━━━━━━━━━━━━━━━━━━━━━━━━━━┑\n",
      "│ Weight compression mode   │ % all parameters (layers)   │ % ratio-defining parameters (layers)   │\n",
      "┝━━━━━━━━━━━━━━━━━━━━━━━━━━━┿━━━━━━━━━━━━━━━━━━━━━━━━━━━━━┿━━━━━━━━━━━━━━━━━━━━━━━━━━━━━━━━━━━━━━━━┥\n",
      "│ int8_asym                 │ 100% (122 / 122)            │ 100% (122 / 122)                       │\n",
      "┕━━━━━━━━━━━━━━━━━━━━━━━━━━━┷━━━━━━━━━━━━━━━━━━━━━━━━━━━━━┷━━━━━━━━━━━━━━━━━━━━━━━━━━━━━━━━━━━━━━━━┙\n"
     ]
    },
    {
     "data": {
      "text/plain": [
       "Output()"
      ],
      "application/vnd.jupyter.widget-view+json": {
       "version_major": 2,
       "version_minor": 0,
       "model_id": "06a2a22b0a154a599ce058f7309098fb"
      }
     },
     "metadata": {},
     "output_type": "display_data"
    },
    {
     "data": {
      "text/plain": [],
      "text/html": [
       "<pre style=\"white-space:pre;overflow-x:auto;line-height:normal;font-family:Menlo,'DejaVu Sans Mono',consolas,'Courier New',monospace\"></pre>\n"
      ]
     },
     "metadata": {},
     "output_type": "display_data"
    },
    {
     "name": "stdout",
     "output_type": "stream",
     "text": [
      "INFO:nncf:Statistics of the bitwidth distribution:\n",
      "┍━━━━━━━━━━━━━━━━━━━━━━━━━━━┯━━━━━━━━━━━━━━━━━━━━━━━━━━━━━┯━━━━━━━━━━━━━━━━━━━━━━━━━━━━━━━━━━━━━━━━┑\n",
      "│ Weight compression mode   │ % all parameters (layers)   │ % ratio-defining parameters (layers)   │\n",
      "┝━━━━━━━━━━━━━━━━━━━━━━━━━━━┿━━━━━━━━━━━━━━━━━━━━━━━━━━━━━┿━━━━━━━━━━━━━━━━━━━━━━━━━━━━━━━━━━━━━━━━┥\n",
      "│ int8_asym                 │ 100% (98 / 98)              │ 100% (98 / 98)                         │\n",
      "┕━━━━━━━━━━━━━━━━━━━━━━━━━━━┷━━━━━━━━━━━━━━━━━━━━━━━━━━━━━┷━━━━━━━━━━━━━━━━━━━━━━━━━━━━━━━━━━━━━━━━┙\n"
     ]
    },
    {
     "data": {
      "text/plain": [
       "Output()"
      ],
      "application/vnd.jupyter.widget-view+json": {
       "version_major": 2,
       "version_minor": 0,
       "model_id": "52aaeaa286724b6396f7b7823774eff8"
      }
     },
     "metadata": {},
     "output_type": "display_data"
    },
    {
     "data": {
      "text/plain": [],
      "text/html": [
       "<pre style=\"white-space:pre;overflow-x:auto;line-height:normal;font-family:Menlo,'DejaVu Sans Mono',consolas,'Courier New',monospace\"></pre>\n"
      ]
     },
     "metadata": {},
     "output_type": "display_data"
    }
   ],
   "execution_count": 42
  },
  {
   "cell_type": "code",
   "id": "3dffbabd3975c601",
   "metadata": {
    "ExecuteTime": {
     "end_time": "2024-12-05T08:37:53.312554Z",
     "start_time": "2024-12-05T08:37:53.305793Z"
    }
   },
   "source": [
    "recognizer = ImageToTextPipeline(\n",
    "\tmodel=model,\n",
    "\ttokenizer=processor.tokenizer,\n",
    "\timage_processor=processor,\n",
    "\tframework=\"pt\",\n",
    "\ttask=\"image-to-text\",\n",
    "\tnum_workers=num_workers,\n",
    "\tdevice=\"cpu\",\n",
    "\ttorch_dtype=\"auto\",\n",
    ")"
   ],
   "outputs": [],
   "execution_count": 43
  },
  {
   "cell_type": "code",
   "id": "234076e253afede2",
   "metadata": {
    "ExecuteTime": {
     "end_time": "2024-12-05T08:37:55.887943Z",
     "start_time": "2024-12-05T08:37:53.354357Z"
    }
   },
   "source": [
    "recognizer(crop_image)"
   ],
   "outputs": [
    {
     "data": {
      "text/plain": [
       "[[{'generated_text': 'J69302'}]]"
      ]
     },
     "execution_count": 44,
     "metadata": {},
     "output_type": "execute_result"
    }
   ],
   "execution_count": 44
  },
  {
   "cell_type": "code",
   "id": "4f6586743b7e719f",
   "metadata": {
    "ExecuteTime": {
     "end_time": "2024-12-05T08:37:55.935483Z",
     "start_time": "2024-12-05T08:37:55.933597Z"
    }
   },
   "source": [],
   "outputs": [],
   "execution_count": null
  }
 ],
 "metadata": {
  "kernelspec": {
   "display_name": "Python 3",
   "language": "python",
   "name": "python3"
  },
  "language_info": {
   "codemirror_mode": {
    "name": "ipython",
    "version": 2
   },
   "file_extension": ".py",
   "mimetype": "text/x-python",
   "name": "python",
   "nbconvert_exporter": "python",
   "pygments_lexer": "ipython2",
   "version": "2.7.6"
  }
 },
 "nbformat": 4,
 "nbformat_minor": 5
}
