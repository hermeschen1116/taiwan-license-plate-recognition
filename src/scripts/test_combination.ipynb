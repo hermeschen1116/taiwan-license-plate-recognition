{
 "cells": [
  {
   "cell_type": "code",
   "execution_count": 1,
   "id": "55a19ec86af1cdf6",
   "metadata": {
    "ExecuteTime": {
     "end_time": "2024-12-05T08:32:44.525903Z",
     "start_time": "2024-12-05T08:32:41.922648Z"
    }
   },
   "outputs": [],
   "source": [
    "import os\n",
    "\n",
    "import cv2\n",
    "import numpy\n",
    "from PIL import Image\n",
    "from optimum.intel import OVModelForVision2Seq, OVWeightQuantizationConfig\n",
    "from roboflow import Roboflow\n",
    "from transformers import ImageToTextPipeline, TrOCRProcessor\n",
    "from ultralytics import YOLO\n",
    "\n",
    "import wandb\n",
    "from taiwan_license_plate_recognition.helper import get_num_of_workers"
   ]
  },
  {
   "cell_type": "code",
   "execution_count": 2,
   "id": "ba7ad7f3219b8935",
   "metadata": {
    "ExecuteTime": {
     "end_time": "2024-12-05T08:32:44.534576Z",
     "start_time": "2024-12-05T08:32:44.528892Z"
    }
   },
   "outputs": [],
   "source": [
    "%load_ext dotenv\n",
    "%dotenv\n",
    "%matplotlib inline"
   ]
  },
  {
   "cell_type": "code",
   "execution_count": 3,
   "id": "33c8495169945d79",
   "metadata": {
    "ExecuteTime": {
     "end_time": "2024-12-05T08:32:44.578324Z",
     "start_time": "2024-12-05T08:32:44.576323Z"
    }
   },
   "outputs": [],
   "source": [
    "project_root: str = os.environ.get(\"PROJECT_ROOT\", \"\")\n",
    "num_workers: int = get_num_of_workers()"
   ]
  },
  {
   "cell_type": "code",
   "execution_count": 4,
   "id": "84fa51f2a6fffa33",
   "metadata": {
    "ExecuteTime": {
     "end_time": "2024-12-05T08:32:45.796330Z",
     "start_time": "2024-12-05T08:32:44.621762Z"
    }
   },
   "outputs": [
    {
     "name": "stderr",
     "output_type": "stream",
     "text": [
      "\u001b[34m\u001b[1mwandb\u001b[0m: Using wandb-core as the SDK backend.  Please refer to https://wandb.me/wandb-core for more information.\n",
      "\u001b[34m\u001b[1mwandb\u001b[0m: Currently logged in as: \u001b[33mhermeschen1116\u001b[0m. Use \u001b[1m`wandb login --relogin`\u001b[0m to force relogin\n"
     ]
    },
    {
     "data": {
      "text/html": [
       "Tracking run with wandb version 0.18.7"
      ],
      "text/plain": [
       "<IPython.core.display.HTML object>"
      ]
     },
     "metadata": {},
     "output_type": "display_data"
    },
    {
     "data": {
      "text/html": [
       "Run data is saved locally in <code>/home/hermeschen/Repo/taiwan-license-plate-recognition/src/scripts/wandb/run-20241205_163245-nvgq03kn</code>"
      ],
      "text/plain": [
       "<IPython.core.display.HTML object>"
      ]
     },
     "metadata": {},
     "output_type": "display_data"
    },
    {
     "data": {
      "text/html": [
       "Syncing run <strong><a href='https://wandb.ai/hermeschen1116/taiwan-license-plate-recognition/runs/nvgq03kn' target=\"_blank\">daily-field-1249</a></strong> to <a href='https://wandb.ai/hermeschen1116/taiwan-license-plate-recognition' target=\"_blank\">Weights & Biases</a> (<a href='https://wandb.me/developer-guide' target=\"_blank\">docs</a>)<br/>"
      ],
      "text/plain": [
       "<IPython.core.display.HTML object>"
      ]
     },
     "metadata": {},
     "output_type": "display_data"
    },
    {
     "data": {
      "text/html": [
       " View project at <a href='https://wandb.ai/hermeschen1116/taiwan-license-plate-recognition' target=\"_blank\">https://wandb.ai/hermeschen1116/taiwan-license-plate-recognition</a>"
      ],
      "text/plain": [
       "<IPython.core.display.HTML object>"
      ]
     },
     "metadata": {},
     "output_type": "display_data"
    },
    {
     "data": {
      "text/html": [
       " View run at <a href='https://wandb.ai/hermeschen1116/taiwan-license-plate-recognition/runs/nvgq03kn' target=\"_blank\">https://wandb.ai/hermeschen1116/taiwan-license-plate-recognition/runs/nvgq03kn</a>"
      ],
      "text/plain": [
       "<IPython.core.display.HTML object>"
      ]
     },
     "metadata": {},
     "output_type": "display_data"
    }
   ],
   "source": [
    "run = wandb.init(project=\"taiwan-license-plate-recognition\", job_type=\"other\", group=\"combination\")"
   ]
  },
  {
   "cell_type": "code",
   "execution_count": 5,
   "id": "6562850edabd26b5",
   "metadata": {
    "ExecuteTime": {
     "end_time": "2024-12-05T08:32:46.165472Z",
     "start_time": "2024-12-05T08:32:45.801167Z"
    }
   },
   "outputs": [],
   "source": [
    "roboflow_agent = Roboflow(api_key=os.environ.get(\"ROBOFLOW_API_KEY\"))"
   ]
  },
  {
   "cell_type": "code",
   "execution_count": 6,
   "id": "eb419eafcecc2166",
   "metadata": {
    "ExecuteTime": {
     "end_time": "2024-12-05T08:32:53.282861Z",
     "start_time": "2024-12-05T08:32:46.172510Z"
    }
   },
   "outputs": [
    {
     "name": "stdout",
     "output_type": "stream",
     "text": [
      "loading Roboflow workspace...\n",
      "loading Roboflow project...\n"
     ]
    }
   ],
   "source": [
    "dataset = (\n",
    "\troboflow_agent.workspace(\"work-c9x8f\")\n",
    "\t.project(\"license-plate-detection-mdsot\")\n",
    "\t.version(6)\n",
    "\t.download(\"yolov8-obb\", location=f\"{project_root}/datasets/roboflow\")\n",
    ")"
   ]
  },
  {
   "cell_type": "code",
   "execution_count": 7,
   "id": "f1756db9771c3407",
   "metadata": {
    "ExecuteTime": {
     "end_time": "2024-12-05T08:32:54.841164Z",
     "start_time": "2024-12-05T08:32:53.289584Z"
    }
   },
   "outputs": [
    {
     "name": "stderr",
     "output_type": "stream",
     "text": [
      "\u001b[34m\u001b[1mwandb\u001b[0m:   3 of 3 files downloaded.  \n"
     ]
    }
   ],
   "source": [
    "model_path: str = run.use_model(\"license-plate-detection:latest\")"
   ]
  },
  {
   "cell_type": "code",
   "execution_count": 8,
   "id": "5ffd911a6c9c4999",
   "metadata": {
    "ExecuteTime": {
     "end_time": "2024-12-05T08:32:54.847770Z",
     "start_time": "2024-12-05T08:32:54.845868Z"
    }
   },
   "outputs": [],
   "source": [
    "os.replace(model_path, f\"{model_path}_openvino_model\")"
   ]
  },
  {
   "cell_type": "code",
   "execution_count": 9,
   "id": "initial_id",
   "metadata": {
    "ExecuteTime": {
     "end_time": "2024-12-05T08:32:54.892242Z",
     "start_time": "2024-12-05T08:32:54.889118Z"
    },
    "collapsed": true
   },
   "outputs": [],
   "source": [
    "model = YOLO(f\"{model_path}_openvino_model\", task=\"obb\")"
   ]
  },
  {
   "cell_type": "code",
   "execution_count": 10,
   "id": "718558319bfc6211",
   "metadata": {
    "ExecuteTime": {
     "end_time": "2024-12-05T08:32:54.944205Z",
     "start_time": "2024-12-05T08:32:54.940998Z"
    }
   },
   "outputs": [],
   "source": [
    "test_image_path: str = (\n",
    "\tf\"{project_root}/datasets/roboflow/train/images/000001_jpg.rf.27e1551f828338908b6c02b147c4d366.jpg\"\n",
    ")"
   ]
  },
  {
   "cell_type": "code",
   "execution_count": 11,
   "id": "e89a4a8da06c4cae",
   "metadata": {
    "ExecuteTime": {
     "end_time": "2024-12-05T08:32:56.388660Z",
     "start_time": "2024-12-05T08:32:54.989135Z"
    }
   },
   "outputs": [
    {
     "name": "stdout",
     "output_type": "stream",
     "text": [
      "Loading /home/hermeschen/Repo/taiwan-license-plate-recognition/src/scripts/artifacts/license-plate-detection:v0_openvino_model for OpenVINO inference...\n",
      "\n",
      "image 1/1 /home/hermeschen/Repo/taiwan-license-plate-recognition/datasets/roboflow/train/images/000001_jpg.rf.27e1551f828338908b6c02b147c4d366.jpg: 640x640 39.4ms\n",
      "Speed: 10.6ms preprocess, 39.4ms inference, 18.0ms postprocess per image at shape (1, 3, 640, 640)\n"
     ]
    }
   ],
   "source": [
    "results = model.predict(test_image_path, device=\"cpu\")"
   ]
  },
  {
   "cell_type": "code",
   "execution_count": 12,
   "id": "da1930cda1f2d741",
   "metadata": {
    "ExecuteTime": {
     "end_time": "2024-12-05T08:32:56.394175Z",
     "start_time": "2024-12-05T08:32:56.392766Z"
    }
   },
   "outputs": [],
   "source": [
    "crop_image = []"
   ]
  },
  {
   "cell_type": "code",
   "execution_count": 13,
   "id": "48e908829e9f17d5",
   "metadata": {
    "ExecuteTime": {
     "end_time": "2024-12-05T08:32:56.447390Z",
     "start_time": "2024-12-05T08:32:56.442511Z"
    }
   },
   "outputs": [],
   "source": [
    "for idx, result in enumerate(results):\n",
    "\tfor obb in result.obb.xyxyxyxy:\n",
    "\t\tpoints = obb.cpu().numpy().reshape((-1, 1, 2)).astype(int)\n",
    "\t\tmask = cv2.fillPoly(numpy.zeros_like(result.orig_img), [points], (255, 255, 255))\n",
    "\t\tcropped_img = cv2.bitwise_and(result.orig_img, mask)\n",
    "\t\tcrop_image.append(Image.fromarray(cropped_img))"
   ]
  },
  {
   "cell_type": "code",
   "execution_count": 14,
   "id": "97af8e91382e836c",
   "metadata": {
    "ExecuteTime": {
     "end_time": "2024-12-05T08:32:58.205035Z",
     "start_time": "2024-12-05T08:32:56.488808Z"
    }
   },
   "outputs": [],
   "source": [
    "processor = TrOCRProcessor.from_pretrained(\"microsoft/trocr-base-printed\", clean_up_tokenization_spaces=True)"
   ]
  },
  {
   "cell_type": "code",
   "execution_count": 15,
   "id": "ee9f5bead6173075",
   "metadata": {
    "ExecuteTime": {
     "end_time": "2024-12-05T08:32:58.246273Z",
     "start_time": "2024-12-05T08:32:58.243961Z"
    }
   },
   "outputs": [],
   "source": [
    "quantization_config = OVWeightQuantizationConfig()\n",
    "ov_config = {\"PERFORMANCE_HINT\": \"LATENCY\", \"CACHE_DIR\": f\"{project_root}/.ov_cache\"}"
   ]
  },
  {
   "cell_type": "code",
   "execution_count": 16,
   "id": "b92befb2983cacc7",
   "metadata": {
    "ExecuteTime": {
     "end_time": "2024-12-05T08:33:22.845909Z",
     "start_time": "2024-12-05T08:32:58.285464Z"
    }
   },
   "outputs": [
    {
     "name": "stderr",
     "output_type": "stream",
     "text": [
      "Some non-default generation parameters are set in the model config. These should go into a GenerationConfig file (https://huggingface.co/docs/transformers/generation_strategies#save-a-custom-decoding-strategy-with-your-model) instead. This warning will be raised to an exception in v4.41.\n",
      "Non-default generation parameters: {'max_length': 64, 'early_stopping': True, 'num_beams': 4, 'length_penalty': 2.0, 'no_repeat_ngram_size': 3}\n",
      "Converting a tensor to a Python boolean might cause the trace to be incorrect. We can't record the data flow of Python values, so this value will be treated as a constant in the future. This means that the trace might not generalize to other inputs!\n",
      "Converting a tensor to a Python boolean might cause the trace to be incorrect. We can't record the data flow of Python values, so this value will be treated as a constant in the future. This means that the trace might not generalize to other inputs!\n",
      "Converting a tensor to a Python boolean might cause the trace to be incorrect. We can't record the data flow of Python values, so this value will be treated as a constant in the future. This means that the trace might not generalize to other inputs!\n",
      "Converting a tensor to a Python boolean might cause the trace to be incorrect. We can't record the data flow of Python values, so this value will be treated as a constant in the future. This means that the trace might not generalize to other inputs!\n",
      "Converting a tensor to a Python boolean might cause the trace to be incorrect. We can't record the data flow of Python values, so this value will be treated as a constant in the future. This means that the trace might not generalize to other inputs!\n",
      "Converting a tensor to a Python boolean might cause the trace to be incorrect. We can't record the data flow of Python values, so this value will be treated as a constant in the future. This means that the trace might not generalize to other inputs!\n",
      "Converting a tensor to a Python boolean might cause the trace to be incorrect. We can't record the data flow of Python values, so this value will be treated as a constant in the future. This means that the trace might not generalize to other inputs!\n",
      "Some non-default generation parameters are set in the model config. These should go into a GenerationConfig file (https://huggingface.co/docs/transformers/generation_strategies#save-a-custom-decoding-strategy-with-your-model) instead. This warning will be raised to an exception in v4.41.\n",
      "Non-default generation parameters: {'max_length': 64, 'early_stopping': True, 'num_beams': 4, 'length_penalty': 2.0, 'no_repeat_ngram_size': 3}\n"
     ]
    },
    {
     "name": "stdout",
     "output_type": "stream",
     "text": [
      "INFO:nncf:Statistics of the bitwidth distribution:\n",
      "┍━━━━━━━━━━━━━━━━━━━━━━━━━━━┯━━━━━━━━━━━━━━━━━━━━━━━━━━━━━┯━━━━━━━━━━━━━━━━━━━━━━━━━━━━━━━━━━━━━━━━┑\n",
      "│ Weight compression mode   │ % all parameters (layers)   │ % ratio-defining parameters (layers)   │\n",
      "┝━━━━━━━━━━━━━━━━━━━━━━━━━━━┿━━━━━━━━━━━━━━━━━━━━━━━━━━━━━┿━━━━━━━━━━━━━━━━━━━━━━━━━━━━━━━━━━━━━━━━┥\n",
      "│ int8_asym                 │ 100% (73 / 73)              │ 100% (73 / 73)                         │\n",
      "┕━━━━━━━━━━━━━━━━━━━━━━━━━━━┷━━━━━━━━━━━━━━━━━━━━━━━━━━━━━┷━━━━━━━━━━━━━━━━━━━━━━━━━━━━━━━━━━━━━━━━┙\n"
     ]
    },
    {
     "data": {
      "application/vnd.jupyter.widget-view+json": {
       "model_id": "d877de08f8844257ac2dbc7c66da57af",
       "version_major": 2,
       "version_minor": 0
      },
      "text/plain": [
       "Output()"
      ]
     },
     "metadata": {},
     "output_type": "display_data"
    },
    {
     "data": {
      "text/html": [
       "<pre style=\"white-space:pre;overflow-x:auto;line-height:normal;font-family:Menlo,'DejaVu Sans Mono',consolas,'Courier New',monospace\"></pre>\n"
      ],
      "text/plain": []
     },
     "metadata": {},
     "output_type": "display_data"
    },
    {
     "name": "stdout",
     "output_type": "stream",
     "text": [
      "INFO:nncf:Statistics of the bitwidth distribution:\n",
      "┍━━━━━━━━━━━━━━━━━━━━━━━━━━━┯━━━━━━━━━━━━━━━━━━━━━━━━━━━━━┯━━━━━━━━━━━━━━━━━━━━━━━━━━━━━━━━━━━━━━━━┑\n",
      "│ Weight compression mode   │ % all parameters (layers)   │ % ratio-defining parameters (layers)   │\n",
      "┝━━━━━━━━━━━━━━━━━━━━━━━━━━━┿━━━━━━━━━━━━━━━━━━━━━━━━━━━━━┿━━━━━━━━━━━━━━━━━━━━━━━━━━━━━━━━━━━━━━━━┥\n",
      "│ int8_asym                 │ 100% (122 / 122)            │ 100% (122 / 122)                       │\n",
      "┕━━━━━━━━━━━━━━━━━━━━━━━━━━━┷━━━━━━━━━━━━━━━━━━━━━━━━━━━━━┷━━━━━━━━━━━━━━━━━━━━━━━━━━━━━━━━━━━━━━━━┙\n"
     ]
    },
    {
     "data": {
      "application/vnd.jupyter.widget-view+json": {
       "model_id": "5c3123cbaa494421a4c8fe894ac1cc9b",
       "version_major": 2,
       "version_minor": 0
      },
      "text/plain": [
       "Output()"
      ]
     },
     "metadata": {},
     "output_type": "display_data"
    },
    {
     "data": {
      "text/html": [
       "<pre style=\"white-space:pre;overflow-x:auto;line-height:normal;font-family:Menlo,'DejaVu Sans Mono',consolas,'Courier New',monospace\"></pre>\n"
      ],
      "text/plain": []
     },
     "metadata": {},
     "output_type": "display_data"
    },
    {
     "name": "stdout",
     "output_type": "stream",
     "text": [
      "INFO:nncf:Statistics of the bitwidth distribution:\n",
      "┍━━━━━━━━━━━━━━━━━━━━━━━━━━━┯━━━━━━━━━━━━━━━━━━━━━━━━━━━━━┯━━━━━━━━━━━━━━━━━━━━━━━━━━━━━━━━━━━━━━━━┑\n",
      "│ Weight compression mode   │ % all parameters (layers)   │ % ratio-defining parameters (layers)   │\n",
      "┝━━━━━━━━━━━━━━━━━━━━━━━━━━━┿━━━━━━━━━━━━━━━━━━━━━━━━━━━━━┿━━━━━━━━━━━━━━━━━━━━━━━━━━━━━━━━━━━━━━━━┥\n",
      "│ int8_asym                 │ 100% (98 / 98)              │ 100% (98 / 98)                         │\n",
      "┕━━━━━━━━━━━━━━━━━━━━━━━━━━━┷━━━━━━━━━━━━━━━━━━━━━━━━━━━━━┷━━━━━━━━━━━━━━━━━━━━━━━━━━━━━━━━━━━━━━━━┙\n"
     ]
    },
    {
     "data": {
      "application/vnd.jupyter.widget-view+json": {
       "model_id": "d1741c676ffd4c2f95567ea3ec476532",
       "version_major": 2,
       "version_minor": 0
      },
      "text/plain": [
       "Output()"
      ]
     },
     "metadata": {},
     "output_type": "display_data"
    },
    {
     "data": {
      "text/html": [
       "<pre style=\"white-space:pre;overflow-x:auto;line-height:normal;font-family:Menlo,'DejaVu Sans Mono',consolas,'Courier New',monospace\"></pre>\n"
      ],
      "text/plain": []
     },
     "metadata": {},
     "output_type": "display_data"
    }
   ],
   "source": [
    "model = OVModelForVision2Seq.from_pretrained(\n",
    "\t\"DunnBC22/trocr-base-printed_license_plates_ocr\",\n",
    "\texport=True,\n",
    "\tov_config=ov_config,\n",
    "\tquantization_config=quantization_config,\n",
    "\tdevice=\"cpu\",\n",
    ")"
   ]
  },
  {
   "cell_type": "code",
   "execution_count": 17,
   "id": "3dffbabd3975c601",
   "metadata": {
    "ExecuteTime": {
     "end_time": "2024-12-05T08:33:22.890374Z",
     "start_time": "2024-12-05T08:33:22.888047Z"
    }
   },
   "outputs": [],
   "source": [
    "recognizer = ImageToTextPipeline(\n",
    "\tmodel=model,\n",
    "\ttokenizer=processor.tokenizer,\n",
    "\timage_processor=processor,\n",
    "\tframework=\"pt\",\n",
    "\ttask=\"image-to-text\",\n",
    "\tnum_workers=num_workers,\n",
    "\tdevice=\"cpu\",\n",
    "\ttorch_dtype=\"auto\",\n",
    ")"
   ]
  },
  {
   "cell_type": "code",
   "execution_count": 18,
   "id": "234076e253afede2",
   "metadata": {
    "ExecuteTime": {
     "end_time": "2024-12-05T08:33:24.006745Z",
     "start_time": "2024-12-05T08:33:22.927671Z"
    }
   },
   "outputs": [
    {
     "data": {
      "text/plain": [
       "[[{'generated_text': 'J69302'}]]"
      ]
     },
     "execution_count": 18,
     "metadata": {},
     "output_type": "execute_result"
    }
   ],
   "source": [
    "recognizer(crop_image)"
   ]
  },
  {
   "cell_type": "code",
   "execution_count": null,
   "id": "4f6586743b7e719f",
   "metadata": {
    "ExecuteTime": {
     "end_time": "2024-12-05T08:33:24.054761Z",
     "start_time": "2024-12-05T08:33:24.053153Z"
    }
   },
   "outputs": [],
   "source": []
  }
 ],
 "metadata": {
  "kernelspec": {
   "display_name": "Python 3",
   "language": "python",
   "name": "python3"
  },
  "language_info": {
   "codemirror_mode": {
    "name": "ipython",
    "version": 2
   },
   "file_extension": ".py",
   "mimetype": "text/x-python",
   "name": "python",
   "nbconvert_exporter": "python",
   "pygments_lexer": "ipython2",
   "version": "2.7.6"
  }
 },
 "nbformat": 4,
 "nbformat_minor": 5
}
